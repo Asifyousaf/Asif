{
  "nbformat": 4,
  "nbformat_minor": 0,
  "metadata": {
    "colab": {
      "provenance": [],
      "authorship_tag": "ABX9TyPaa8B5FWDqoR06eS0PcCSt",
      "include_colab_link": true
    },
    "kernelspec": {
      "name": "python3",
      "display_name": "Python 3"
    },
    "language_info": {
      "name": "python"
    }
  },
  "cells": [
    {
      "cell_type": "markdown",
      "metadata": {
        "id": "view-in-github",
        "colab_type": "text"
      },
      "source": [
        "<a href=\"https://colab.research.google.com/github/Asifyousaf/Asif/blob/main/Chapter%203%20-%20Data%20Structures/Exercises/05_Change_Guest_list.ipynb\" target=\"_parent\"><img src=\"https://colab.research.google.com/assets/colab-badge.svg\" alt=\"Open In Colab\"/></a>"
      ]
    },
    {
      "cell_type": "code",
      "execution_count": 2,
      "metadata": {
        "colab": {
          "base_uri": "https://localhost:8080/"
        },
        "id": "E3sV1XUCeyxs",
        "outputId": "30f3abb2-3963-4df2-bdd6-bb345366a7c2"
      },
      "outputs": [
        {
          "output_type": "stream",
          "name": "stdout",
          "text": [
            "Muhammad Awais, please come to dinner.\n",
            "Drake, please come to dinner.\n",
            "Babu Rao, please come to dinner.\n",
            "\n",
            "Sorry, Drake can't make it to dinner.\n",
            "\n",
            "Muhammad Awais, please come to dinner.\n",
            "Khaled, please come to dinner.\n",
            "Babu Rao, please come to dinner.\n"
          ]
        }
      ],
      "source": [
        "# Inviting some people to dinner.\n",
        "guests = ['Muhammad Awais', 'Drake', 'babu rao']\n",
        "\n",
        "name = guests[0].title()\n",
        "print(name + \", please come to dinner.\")\n",
        "\n",
        "name = guests[1].title()\n",
        "print(name + \", please come to dinner.\")\n",
        "\n",
        "name = guests[2].title()\n",
        "print(name + \", please come to dinner.\")\n",
        "\n",
        "name = guests[1].title()\n",
        "print(\"\\nSorry, \" + name + \" can't make it to dinner.\")\n",
        "\n",
        "# Drake can't make it, Let's invite khaled instead.\n",
        "guests[1]='khaled'\n",
        "\n",
        "# Printing the invitations again.\n",
        "name = guests[0].title()\n",
        "print(\"\\n\" + name + \", please come to dinner.\")\n",
        "\n",
        "name = guests[1].title()\n",
        "print(name + \", please come to dinner.\")\n",
        "\n",
        "name = guests[2].title()\n",
        "print(name + \", please come to dinner.\")"
      ]
    }
  ]
}