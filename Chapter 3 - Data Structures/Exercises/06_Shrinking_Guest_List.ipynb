{
  "nbformat": 4,
  "nbformat_minor": 0,
  "metadata": {
    "colab": {
      "provenance": [],
      "authorship_tag": "ABX9TyPWN6NGWzVTX+34CNy+DB7O",
      "include_colab_link": true
    },
    "kernelspec": {
      "name": "python3",
      "display_name": "Python 3"
    },
    "language_info": {
      "name": "python"
    }
  },
  "cells": [
    {
      "cell_type": "markdown",
      "metadata": {
        "id": "view-in-github",
        "colab_type": "text"
      },
      "source": [
        "<a href=\"https://colab.research.google.com/github/Asifyousaf/Asif/blob/main/Chapter%203%20-%20Data%20Structures/Exercises/06_Shrinking_Guest_List.ipynb\" target=\"_parent\"><img src=\"https://colab.research.google.com/assets/colab-badge.svg\" alt=\"Open In Colab\"/></a>"
      ]
    },
    {
      "cell_type": "code",
      "execution_count": 23,
      "metadata": {
        "colab": {
          "base_uri": "https://localhost:8080/"
        },
        "id": "pW0GzHy3QvF1",
        "outputId": "218392a7-3569-4fc0-f79b-fa1979021427"
      },
      "outputs": [
        {
          "output_type": "stream",
          "name": "stdout",
          "text": [
            "Muhammad Awais, please come to dinner.\n",
            "Drake, please come to dinner.\n",
            "Babu Rao, please come to dinner.\n",
            "\n",
            "Sorry, Drake can't make it to dinner.\n",
            "\n",
            "Muhammad Awais, please come to dinner.\n",
            "Khaled, please come to dinner.\n",
            "Babu Rao, please come to dinner.\n",
            "\n",
            "Sorry, we can only invite two people to dinner because the table wont arrive on time.\n",
            "Sorry, Babu Rao there's no room at the table.\n",
            "\n",
            "You are still invited:\n",
            "Muhammad Awais, please come to dinner, You are still invited.\n",
            "Khaled, please come to dinner, You are still invited.\n",
            "[]\n"
          ]
        }
      ],
      "source": [
        "# Inviting some people to dinner.\n",
        "guests = ['Muhammad Awais', 'Drake', 'babu rao']\n",
        "\n",
        "name = guests[0].title()\n",
        "print(name + \", please come to dinner.\")\n",
        "\n",
        "name = guests[1].title()\n",
        "print(name + \", please come to dinner.\")\n",
        "\n",
        "name = guests[2].title()\n",
        "print(name + \", please come to dinner.\")\n",
        "\n",
        "name = guests[1].title()\n",
        "print(\"\\nSorry, \" + name + \" can't make it to dinner.\")\n",
        "\n",
        "# Drake can't make it, Let's invite khaled instead.\n",
        "guests[1]='khaled'\n",
        "\n",
        "# Printing the invitations again.\n",
        "name = guests[0].title()\n",
        "print(\"\\n\" + name + \", please come to dinner.\")\n",
        "\n",
        "name = guests[1].title()\n",
        "print(name + \", please come to dinner.\")\n",
        "\n",
        "name = guests[2].title()\n",
        "print(name + \", please come to dinner.\")\n",
        "\n",
        "# The table won't arrive on time \n",
        "print(\"\\nSorry, we can only invite two people to dinner because the table wont arrive on time.\")\n",
        "\n",
        "# Using the function pop to remove the name from list\n",
        "name = guests.pop()\n",
        "print(\"Sorry, \" + name.title() + \" there's no room at the table.\")\n",
        "\n",
        "# Inviting two remaining guests again\n",
        "print('\\n'\"You are still invited:\")\n",
        "name = guests[0].title()\n",
        "print( name + \", please come to dinner, You are still invited.\")\n",
        "\n",
        "name = guests[1].title()\n",
        "print(name + \", please come to dinner, You are still invited.\")\n",
        "\n",
        "# Emptying the list using del function\n",
        "del(guests[0])\n",
        "del(guests[0])\n",
        "\n",
        "#checking the list\n",
        "print(guests)\n"
      ]
    }
  ]
}