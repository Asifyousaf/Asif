{
  "nbformat": 4,
  "nbformat_minor": 0,
  "metadata": {
    "colab": {
      "provenance": [],
      "authorship_tag": "ABX9TyOGPzP/vxPSrRT7a6aLPoS9",
      "include_colab_link": true
    },
    "kernelspec": {
      "name": "python3",
      "display_name": "Python 3"
    },
    "language_info": {
      "name": "python"
    }
  },
  "cells": [
    {
      "cell_type": "markdown",
      "metadata": {
        "id": "view-in-github",
        "colab_type": "text"
      },
      "source": [
        "<a href=\"https://colab.research.google.com/github/Asifyousaf/Asif/blob/main/Chapter%203%20-%20Data%20Structures/Exercises/05_Change_Guest_List.ipynb\" target=\"_parent\"><img src=\"https://colab.research.google.com/assets/colab-badge.svg\" alt=\"Open In Colab\"/></a>"
      ]
    },
    {
      "cell_type": "code",
      "execution_count": 1,
      "metadata": {
        "colab": {
          "base_uri": "https://localhost:8080/"
        },
        "id": "SdOqzex8dIIt",
        "outputId": "910c31da-8604-451e-83f5-7e9be269b5e8"
      },
      "outputs": [
        {
          "output_type": "stream",
          "name": "stdout",
          "text": [
            "Muhammad Awais, please come to dinner.\n",
            "Drake, please come to dinner.\n",
            "Babu Rao, please come to dinner.\n",
            "\n",
            "Sorry, Drake can't make it to dinner.\n",
            "\n",
            "Muhammad Awais, please come to dinner.\n",
            "Khaled, please come to dinner.\n",
            "Babu Rao, please come to dinner.\n"
          ]
        }
      ],
      "source": [
        "# Inviting some people to dinner.\n",
        "guests = ['Muhammad Awais', 'Drake', 'babu rao']\n",
        "\n",
        "name = guests[0].title()\n",
        "print(name + \", please come to dinner.\")\n",
        "\n",
        "name = guests[1].title()\n",
        "print(name + \", please come to dinner.\")\n",
        "\n",
        "name = guests[2].title()\n",
        "print(name + \", please come to dinner.\")\n",
        "\n",
        "name = guests[1].title()\n",
        "print(\"\\nSorry, \" + name + \" can't make it to dinner.\")\n",
        "\n",
        "# Drake can't make it, Let's invite khaled instead.\n",
        "del(guests[1])\n",
        "guests.insert(1, 'khaled')\n",
        "\n",
        "# Printing the invitations again.\n",
        "name = guests[0].title()\n",
        "print(\"\\n\" + name + \", please come to dinner.\")\n",
        "\n",
        "name = guests[1].title()\n",
        "print(name + \", please come to dinner.\")\n",
        "\n",
        "name = guests[2].title()\n",
        "print(name + \", please come to dinner.\")"
      ]
    }
  ]
}