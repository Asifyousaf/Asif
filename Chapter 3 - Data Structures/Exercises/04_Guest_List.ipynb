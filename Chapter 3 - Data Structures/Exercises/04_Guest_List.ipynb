{
  "nbformat": 4,
  "nbformat_minor": 0,
  "metadata": {
    "colab": {
      "provenance": [],
      "authorship_tag": "ABX9TyMVuj6eQevaTKkbCE3ncDil",
      "include_colab_link": true
    },
    "kernelspec": {
      "name": "python3",
      "display_name": "Python 3"
    },
    "language_info": {
      "name": "python"
    }
  },
  "cells": [
    {
      "cell_type": "markdown",
      "metadata": {
        "id": "view-in-github",
        "colab_type": "text"
      },
      "source": [
        "<a href=\"https://colab.research.google.com/github/Asifyousaf/Asif/blob/main/Chapter%203%20-%20Data%20Structures/Exercises/04_Guest_List.ipynb\" target=\"_parent\"><img src=\"https://colab.research.google.com/assets/colab-badge.svg\" alt=\"Open In Colab\"/></a>"
      ]
    },
    {
      "cell_type": "code",
      "execution_count": 1,
      "metadata": {
        "colab": {
          "base_uri": "https://localhost:8080/"
        },
        "id": "ikVOjFKUaHcR",
        "outputId": "650a9db1-2df0-45cb-9a23-0f465212a416"
      },
      "outputs": [
        {
          "output_type": "stream",
          "name": "stdout",
          "text": [
            "Muhammad Awais, please come to dinner tonight.\n",
            "Drake, please come to dinner tonight.\n",
            "Babu Rao, please come to dinner tonight.\n"
          ]
        }
      ],
      "source": [
        "# Assigning names to a variable\n",
        "guests = ['Muhammad Awais', 'Drake', 'babu rao']\n",
        "\n",
        "# inviting them to dinner.\n",
        "name = guests[0].title()\n",
        "print(name + \", please come to dinner tonight.\")\n",
        "\n",
        "name = guests[1].title()\n",
        "print(name + \", please come to dinner tonight.\")\n",
        "\n",
        "name = guests[2].title()\n",
        "print(name + \", please come to dinner tonight.\")"
      ]
    }
  ]
}