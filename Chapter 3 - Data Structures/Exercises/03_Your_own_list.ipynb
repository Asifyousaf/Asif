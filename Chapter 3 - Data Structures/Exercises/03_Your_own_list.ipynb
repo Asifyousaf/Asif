{
  "nbformat": 4,
  "nbformat_minor": 0,
  "metadata": {
    "colab": {
      "provenance": [],
      "authorship_tag": "ABX9TyOaUSG3jou3cFRHGFtmM8qw",
      "include_colab_link": true
    },
    "kernelspec": {
      "name": "python3",
      "display_name": "Python 3"
    },
    "language_info": {
      "name": "python"
    }
  },
  "cells": [
    {
      "cell_type": "markdown",
      "metadata": {
        "id": "view-in-github",
        "colab_type": "text"
      },
      "source": [
        "<a href=\"https://colab.research.google.com/github/Asifyousaf/Asif/blob/main/Chapter%203%20-%20Data%20Structures/Exercises/03_Your_own_list.ipynb\" target=\"_parent\"><img src=\"https://colab.research.google.com/assets/colab-badge.svg\" alt=\"Open In Colab\"/></a>"
      ]
    },
    {
      "cell_type": "code",
      "execution_count": 11,
      "metadata": {
        "colab": {
          "base_uri": "https://localhost:8080/"
        },
        "id": "LIeLTVY9VyOX",
        "outputId": "8d696867-be43-4c85-8223-af0654fd4038"
      },
      "outputs": [
        {
          "output_type": "stream",
          "name": "stdout",
          "text": [
            "I go to uni using a Metro\n",
            "I love to drive a Sports Car\n"
          ]
        }
      ],
      "source": [
        "# Declaring the list \n",
        "favorite_transportation = ['metro', \"sports car\"]\n",
        "\n",
        "# Printing a statements\n",
        "print(\"I go to uni using a\",favorite_transportation[0].title())\n",
        "print(\"I love to drive a\",favorite_transportation[1].title())"
      ]
    }
  ]
}