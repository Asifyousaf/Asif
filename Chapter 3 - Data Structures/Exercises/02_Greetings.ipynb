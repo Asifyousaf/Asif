{
  "nbformat": 4,
  "nbformat_minor": 0,
  "metadata": {
    "colab": {
      "provenance": [],
      "authorship_tag": "ABX9TyNDZ2MUuoBumM8Un/OcMkOU",
      "include_colab_link": true
    },
    "kernelspec": {
      "name": "python3",
      "display_name": "Python 3"
    },
    "language_info": {
      "name": "python"
    }
  },
  "cells": [
    {
      "cell_type": "markdown",
      "metadata": {
        "id": "view-in-github",
        "colab_type": "text"
      },
      "source": [
        "<a href=\"https://colab.research.google.com/github/Asifyousaf/Asif/blob/main/Chapter%203%20-%20Data%20Structures/Exercises/02_Greetings.ipynb\" target=\"_parent\"><img src=\"https://colab.research.google.com/assets/colab-badge.svg\" alt=\"Open In Colab\"/></a>"
      ]
    },
    {
      "cell_type": "code",
      "execution_count": 1,
      "metadata": {
        "colab": {
          "base_uri": "https://localhost:8080/"
        },
        "id": "C7LN3PYTUeT4",
        "outputId": "c9956161-db40-4bea-b4c4-6c8489b7e112"
      },
      "outputs": [
        {
          "output_type": "stream",
          "name": "stdout",
          "text": [
            "Hello, Chris!!!!\n",
            "Hello, Tyler!!!!\n",
            "Hello, Asif!!!!\n"
          ]
        }
      ],
      "source": [
        "# Assigning names to variable \n",
        "names = ['chris','tyler','Asif']\n",
        "\n",
        "# Printing a message to them\n",
        "msg = \"Hello, \" + names[0].title() + \"!!!!\"\n",
        "print(msg)\n",
        "msg = \"Hello, \" + names[1].title() + \"!!!!\"\n",
        "print(msg)\n",
        "msg = \"Hello, \" + names[2].title() + \"!!!!\"\n",
        "print(msg)"
      ]
    }
  ]
}