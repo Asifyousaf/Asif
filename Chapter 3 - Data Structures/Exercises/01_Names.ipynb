{
  "nbformat": 4,
  "nbformat_minor": 0,
  "metadata": {
    "colab": {
      "provenance": [],
      "authorship_tag": "ABX9TyPnCxK8Zcg0ih/z7pLqkfWS",
      "include_colab_link": true
    },
    "kernelspec": {
      "name": "python3",
      "display_name": "Python 3"
    },
    "language_info": {
      "name": "python"
    }
  },
  "cells": [
    {
      "cell_type": "markdown",
      "metadata": {
        "id": "view-in-github",
        "colab_type": "text"
      },
      "source": [
        "<a href=\"https://colab.research.google.com/github/Asifyousaf/Asif/blob/main/Chapter%203%20-%20Data%20Structures/Exercises/01_Names.ipynb\" target=\"_parent\"><img src=\"https://colab.research.google.com/assets/colab-badge.svg\" alt=\"Open In Colab\"/></a>"
      ]
    },
    {
      "cell_type": "code",
      "source": [
        "# Assigning the names to variables \n",
        "names = ['chris', 'tyler','Asif']\n",
        "\n",
        "# Printing each person’s name by accessing each element in the list, one by one\n",
        "print(names[0])\n",
        "print(names[1])\n",
        "print(names[2])"
      ],
      "metadata": {
        "colab": {
          "base_uri": "https://localhost:8080/"
        },
        "id": "0Cazx_t4M4My",
        "outputId": "60570091-c6d6-4b35-a446-c5a15e80984e"
      },
      "execution_count": 6,
      "outputs": [
        {
          "output_type": "stream",
          "name": "stdout",
          "text": [
            "chris\n",
            "tyler\n",
            "Asif\n"
          ]
        }
      ]
    }
  ]
}