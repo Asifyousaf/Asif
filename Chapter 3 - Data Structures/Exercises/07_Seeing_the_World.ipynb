{
  "nbformat": 4,
  "nbformat_minor": 0,
  "metadata": {
    "colab": {
      "provenance": [],
      "authorship_tag": "ABX9TyMXSl91jyvviONQ0ejoPPmg",
      "include_colab_link": true
    },
    "kernelspec": {
      "name": "python3",
      "display_name": "Python 3"
    },
    "language_info": {
      "name": "python"
    }
  },
  "cells": [
    {
      "cell_type": "markdown",
      "metadata": {
        "id": "view-in-github",
        "colab_type": "text"
      },
      "source": [
        "<a href=\"https://colab.research.google.com/github/Asifyousaf/Asif/blob/main/Chapter%203%20-%20Data%20Structures/Exercises/07_Seeing_the_World.ipynb\" target=\"_parent\"><img src=\"https://colab.research.google.com/assets/colab-badge.svg\" alt=\"Open In Colab\"/></a>"
      ]
    },
    {
      "cell_type": "code",
      "execution_count": 1,
      "metadata": {
        "colab": {
          "base_uri": "https://localhost:8080/"
        },
        "id": "NbF7DlhrW4xq",
        "outputId": "9b5ba4b4-deb7-4f7f-d55e-5e30b9dffd00"
      },
      "outputs": [
        {
          "output_type": "stream",
          "name": "stdout",
          "text": [
            "Original order:\n",
            "['London', 'Japan', 'South Island', 'Greece', 'Naran']\n",
            "\n",
            "sorted:\n",
            "['Greece', 'Japan', 'London', 'Naran', 'South Island']\n",
            "\n",
            "Original order:\n",
            "['London', 'Japan', 'South Island', 'Greece', 'Naran']\n",
            "\n",
            "Reverse alphabetical:\n",
            "['South Island', 'Naran', 'London', 'Japan', 'Greece']\n",
            "\n",
            "Original order:\n",
            "['London', 'Japan', 'South Island', 'Greece', 'Naran']\n",
            "\n",
            "Reversed:\n",
            "['Naran', 'Greece', 'South Island', 'Japan', 'London']\n",
            "\n",
            "Original order:\n",
            "['London', 'Japan', 'South Island', 'Greece', 'Naran']\n",
            "\n",
            "Alphabetical\n",
            "['Greece', 'Japan', 'London', 'Naran', 'South Island']\n",
            "\n",
            "Reverse alphabetical\n",
            "['South Island', 'Naran', 'London', 'Japan', 'Greece']\n"
          ]
        }
      ],
      "source": [
        "# Assigning the names to variables\n",
        "locations = ['London', 'Japan', 'South Island', 'Greece', 'Naran']\n",
        "\n",
        "print(\"Original order:\")\n",
        "print(locations)\n",
        "\n",
        "# Using sorted() to print without modifying the actual list.\n",
        "print(\"\\nsorted:\")\n",
        "print(sorted(locations))\n",
        "\n",
        "# Showing that my list is still in its original order by printing it\n",
        "print(\"\\nOriginal order:\")\n",
        "print(locations)\n",
        "\n",
        "# printing my list in reverse alphabetical order without changing the order of the original list.\n",
        "print(\"\\nReverse alphabetical:\")\n",
        "print(sorted(locations, reverse=True))\n",
        "\n",
        "# Showing that my list is still in its original order by printing it\n",
        "print(\"\\nOriginal order:\")\n",
        "print(locations)\n",
        "\n",
        "# Using reverse() to change the order of my list. Printing the list to show that its order has changed.\n",
        "print(\"\\nReversed:\")\n",
        "locations.reverse()\n",
        "print(locations)\n",
        "\n",
        "# Using reverse() to change the order of my list again. Printing the list to show it’s back to its original order.\n",
        "print(\"\\nOriginal order:\")\n",
        "locations.reverse()\n",
        "print(locations)\n",
        "\n",
        "# Using sort() to change my list so it’s stored in alphabetical order. Printing the list to show that its order has been changed.\n",
        "print(\"\\nAlphabetical\")\n",
        "locations.sort()\n",
        "print(locations)\n",
        "\n",
        "# Using sort() to change your list so it’s stored in reverse alphabetical order. Printing the list to show that its order has changed.\n",
        "print(\"\\nReverse alphabetical\")\n",
        "locations.sort(reverse=True)\n",
        "print(locations)"
      ]
    }
  ]
}