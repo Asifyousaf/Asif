{
  "nbformat": 4,
  "nbformat_minor": 0,
  "metadata": {
    "colab": {
      "provenance": [],
      "authorship_tag": "ABX9TyPrdDPioamYLaZ81cyrsP7P",
      "include_colab_link": true
    },
    "kernelspec": {
      "name": "python3",
      "display_name": "Python 3"
    },
    "language_info": {
      "name": "python"
    }
  },
  "cells": [
    {
      "cell_type": "markdown",
      "metadata": {
        "id": "view-in-github",
        "colab_type": "text"
      },
      "source": [
        "<a href=\"https://colab.research.google.com/github/Asifyousaf/Asif/blob/main/Chapter%205%20-%20Dictionaries/Exercises/05_Pets.ipynb\" target=\"_parent\"><img src=\"https://colab.research.google.com/assets/colab-badge.svg\" alt=\"Open In Colab\"/></a>"
      ]
    },
    {
      "cell_type": "code",
      "execution_count": 8,
      "metadata": {
        "colab": {
          "base_uri": "https://localhost:8080/"
        },
        "id": "7aPl86EGluDA",
        "outputId": "1fb13917-da8b-42a1-f8f0-bc22adccbe48"
      },
      "outputs": [
        {
          "output_type": "stream",
          "name": "stdout",
          "text": [
            "\tName:Timmy\n",
            "\tBreed:Pooch\n",
            "\towner:micheal\n",
            "_____________________________\n",
            "\tName:Bo\n",
            "\tBreed:German Shepherd\n",
            "\towner:shawn\n",
            "_____________________________\n",
            "\tName:Nelly\n",
            "\tBreed:Chihuahua\n",
            "\towner:ayesha\n",
            "_____________________________\n"
          ]
        }
      ],
      "source": [
        "# Assigning the pets info to a variable\n",
        "pet1={\n",
        "   \"Name\":\"Timmy\",\n",
        "    \"Breed\":\"Pooch\",\n",
        "    \"owner\":\"micheal\",\n",
        "}\n",
        "pet2={\n",
        "    \"Name\":\"Bo\",\n",
        "    \"Breed\":\"German Shepherd\",\n",
        "    \"owner\":\"shawn\",\n",
        "}\n",
        "pet3={\n",
        "    \"Name\":\"Nelly\",\n",
        "    \"Breed\":\"Chihuahua\",\n",
        "    \"owner\":\"ayesha\",\n",
        "}\n",
        "\n",
        "# Assigning the pets info to a list\n",
        "pets=[pet1,pet2,pet3]\n",
        "for pet in pets:\n",
        "    for key, value in pet.items():\n",
        "        print(f\"\\t{key}:{value}\")\n",
        "    print(\"___________________________\")"
      ]
    }
  ]
}