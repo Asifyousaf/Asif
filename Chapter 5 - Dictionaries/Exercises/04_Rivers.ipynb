{
  "nbformat": 4,
  "nbformat_minor": 0,
  "metadata": {
    "colab": {
      "provenance": [],
      "authorship_tag": "ABX9TyO+VbD8ve3ekyGenIXJ/jSg",
      "include_colab_link": true
    },
    "kernelspec": {
      "name": "python3",
      "display_name": "Python 3"
    },
    "language_info": {
      "name": "python"
    }
  },
  "cells": [
    {
      "cell_type": "markdown",
      "metadata": {
        "id": "view-in-github",
        "colab_type": "text"
      },
      "source": [
        "<a href=\"https://colab.research.google.com/github/Asifyousaf/Asif/blob/main/Chapter%205%20-%20Dictionaries/Exercises/04_Rivers.ipynb\" target=\"_parent\"><img src=\"https://colab.research.google.com/assets/colab-badge.svg\" alt=\"Open In Colab\"/></a>"
      ]
    },
    {
      "cell_type": "code",
      "execution_count": 1,
      "metadata": {
        "colab": {
          "base_uri": "https://localhost:8080/"
        },
        "id": "MS51btMDSG0W",
        "outputId": "d4542f7a-2de1-42cb-d86a-ce0b869a73ef"
      },
      "outputs": [
        {
          "output_type": "stream",
          "name": "stdout",
          "text": [
            "The Nile flows through Egypt.\n",
            "The Mississippi flows through United States.\n",
            "The Fraser flows through Canada.\n",
            "The Kuskokwim flows through Alaska.\n",
            "The Yangtze flows through China.\n",
            "\n",
            "The following rivers are included in this data set:\n",
            "- Nile\n",
            "- Mississippi\n",
            "- Fraser\n",
            "- Kuskokwim\n",
            "- Yangtze\n",
            "\n",
            "The following countries are included in this data set:\n",
            "- Egypt\n",
            "- United States\n",
            "- Canada\n",
            "- Alaska\n",
            "- China\n"
          ]
        }
      ],
      "source": [
        "# Assigning river names to a variable\n",
        "rivers = {\n",
        "    'nile': 'egypt',\n",
        "    'mississippi': 'united states',\n",
        "    'fraser': 'canada',\n",
        "    'kuskokwim': 'alaska',\n",
        "    'yangtze': 'china',\n",
        "    }\n",
        "\n",
        "# Using a loop to print a sentence fornm each river\n",
        "for river, country in rivers.items():\n",
        "    print(f\"The {river.title()} flows through {country.title()}.\")\n",
        "\n",
        "# Using a loop to print the name of each river included in the dictionary.\n",
        "print(\"\\nThe following rivers are included in this data set:\")\n",
        "for river in rivers.keys():\n",
        "    print(f\"- {river.title()}\")\n",
        "\n",
        "# Using a loop to print the name of each country included in the dictionary.\n",
        "print(\"\\nThe following countries are included in this data set:\")\n",
        "for country in rivers.values():\n",
        "    print(f\"- {country.title()}\")"
      ]
    },
    {
      "cell_type": "code",
      "source": [
        "rivers = {\n",
        "\t'River Thames': 'England',\n",
        "\t'Zambezi': 'Africa',\n",
        "\t'amazon': 'brazil',\n",
        "}\n",
        "\n",
        "for river, country in rivers.items():\n",
        "\tprint(\"The \" + river.title() + \" river runs through \" + country.title() + \".\")\n",
        "print('\\n''These names of rivers are included in the dictionary.')\n",
        "for river in rivers.keys():\n",
        "\tprint(river.title())\n",
        "print('\\n''These names of countries are included in the dictionary.')\n",
        "for country in rivers.values():\n",
        "\tprint(country.title())"
      ],
      "metadata": {
        "colab": {
          "base_uri": "https://localhost:8080/"
        },
        "id": "ijMru60iVdKP",
        "outputId": "8b0ed551-6503-47dc-de41-8ca275fdb180"
      },
      "execution_count": 11,
      "outputs": [
        {
          "output_type": "stream",
          "name": "stdout",
          "text": [
            "The River Thames river runs through England.\n",
            "The Zambezi river runs through Africa.\n",
            "The Amazon river runs through Brazil.\n",
            "\n",
            "These names of rivers are included in the dictionary.\n",
            "River Thames\n",
            "Zambezi\n",
            "Amazon\n",
            "\n",
            "These names of countries are included in the dictionary.\n",
            "England\n",
            "Africa\n",
            "Brazil\n"
          ]
        }
      ]
    }
  ]
}