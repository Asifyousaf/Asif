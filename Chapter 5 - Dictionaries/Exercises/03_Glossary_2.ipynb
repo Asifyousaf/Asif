{
  "nbformat": 4,
  "nbformat_minor": 0,
  "metadata": {
    "colab": {
      "provenance": [],
      "authorship_tag": "ABX9TyPCpNMEqUny2To1v5DEmIZT",
      "include_colab_link": true
    },
    "kernelspec": {
      "name": "python3",
      "display_name": "Python 3"
    },
    "language_info": {
      "name": "python"
    }
  },
  "cells": [
    {
      "cell_type": "markdown",
      "metadata": {
        "id": "view-in-github",
        "colab_type": "text"
      },
      "source": [
        "<a href=\"https://colab.research.google.com/github/Asifyousaf/Asif/blob/main/Chapter%205%20-%20Dictionaries/Exercises/03_Glossary_2.ipynb\" target=\"_parent\"><img src=\"https://colab.research.google.com/assets/colab-badge.svg\" alt=\"Open In Colab\"/></a>"
      ]
    },
    {
      "cell_type": "code",
      "execution_count": 2,
      "metadata": {
        "colab": {
          "base_uri": "https://localhost:8080/"
        },
        "id": "FUMEVLxhQFlI",
        "outputId": "87e66e2f-58a3-446c-cc0f-fadad9628fef"
      },
      "outputs": [
        {
          "output_type": "stream",
          "name": "stdout",
          "text": [
            "\n",
            "Loop: Work through a collection of items.\n",
            "\n",
            "String: A colloction of characters.\n",
            "\n",
            "Comment: A note in a program that the Python interpreter ignores.\n",
            "\n",
            "List: A container that can store any kind of values.\n",
            "\n",
            "Dictionary: A collection of keyvalue groups.\n",
            "\n",
            "Key: The first item in a key-value pair in a dictionary.\n",
            "\n",
            "Value: An item associated with a key in a dictionary.\n",
            "\n",
            "Conditional Test: A comparison between two values.\n",
            "\n",
            "Float: A numerical value with a decimal component.\n",
            "\n",
            "Print(): An expression that literally prints the result to the screen. .\n"
          ]
        }
      ],
      "source": [
        "glossary = {\n",
        "    'loop': 'Work through a collection of items.',\n",
        "    'string': 'A colloction of characters.',\n",
        "    'comment': 'A note in a program that the Python interpreter ignores.',\n",
        "    'list': 'A container that can store any kind of values.',\n",
        "    'dictionary': \"A collection of keyvalue groups.\",\n",
        "    'key': 'The first item in a key-value pair in a dictionary.',\n",
        "    'value': 'An item associated with a key in a dictionary.',\n",
        "    'conditional test': 'A comparison between two values.',\n",
        "    'float': 'A numerical value with a decimal component.',\n",
        "    'print()': 'An expression that literally prints the result to the screen. .',\n",
        "    }\n",
        "\n",
        "for word, definition in glossary.items():\n",
        "    print(f\"\\n{word.title()}: {definition}\")"
      ]
    }
  ]
}