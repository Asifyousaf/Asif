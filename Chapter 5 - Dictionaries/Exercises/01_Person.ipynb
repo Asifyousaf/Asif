{
  "nbformat": 4,
  "nbformat_minor": 0,
  "metadata": {
    "colab": {
      "provenance": [],
      "collapsed_sections": [],
      "authorship_tag": "ABX9TyNfDaDPVNpDg2n2Ol8CUCpt",
      "include_colab_link": true
    },
    "kernelspec": {
      "name": "python3",
      "display_name": "Python 3"
    },
    "language_info": {
      "name": "python"
    }
  },
  "cells": [
    {
      "cell_type": "markdown",
      "metadata": {
        "id": "view-in-github",
        "colab_type": "text"
      },
      "source": [
        "<a href=\"https://colab.research.google.com/github/Asifyousaf/Asif/blob/main/Chapter%205%20-%20Dictionaries/Exercises/01_Person.ipynb\" target=\"_parent\"><img src=\"https://colab.research.google.com/assets/colab-badge.svg\" alt=\"Open In Colab\"/></a>"
      ]
    },
    {
      "cell_type": "code",
      "execution_count": 2,
      "metadata": {
        "colab": {
          "base_uri": "https://localhost:8080/"
        },
        "id": "A56aRoK72G7P",
        "outputId": "385298ac-a9e3-465e-f634-0983f812e136"
      },
      "outputs": [
        {
          "output_type": "stream",
          "name": "stdout",
          "text": [
            "amir\n",
            "saeed\n",
            "18\n",
            "dubai\n"
          ]
        }
      ],
      "source": [
        "person = {'first_name': 'amir',\n",
        "          'last_name': 'saeed',\n",
        "          'age': 18,\n",
        "          'city': 'dubai', }\n",
        "\n",
        "print(person['first_name'])\n",
        "print(person['last_name'])\n",
        "print(person['age'])\n",
        "print(person['city'])"
      ]
    }
  ]
}