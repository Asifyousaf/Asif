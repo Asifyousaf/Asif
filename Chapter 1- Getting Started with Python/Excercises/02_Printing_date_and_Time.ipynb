{
  "nbformat": 4,
  "nbformat_minor": 0,
  "metadata": {
    "colab": {
      "provenance": [],
      "authorship_tag": "ABX9TyNPwY5xTIEJDU5/H/+wCLkT",
      "include_colab_link": true
    },
    "kernelspec": {
      "name": "python3",
      "display_name": "Python 3"
    },
    "language_info": {
      "name": "python"
    }
  },
  "cells": [
    {
      "cell_type": "markdown",
      "metadata": {
        "id": "view-in-github",
        "colab_type": "text"
      },
      "source": [
        "<a href=\"https://colab.research.google.com/github/Asifyousaf/Asif/blob/main/Chapter%201-%20Getting%20Started%20with%20Python/Excercises/Printing_date_and_Time.ipynb\" target=\"_parent\"><img src=\"https://colab.research.google.com/assets/colab-badge.svg\" alt=\"Open In Colab\"/></a>"
      ]
    },
    {
      "cell_type": "code",
      "execution_count": null,
      "metadata": {
        "colab": {
          "base_uri": "https://localhost:8080/"
        },
        "id": "pSr3-g64tSiu",
        "outputId": "69d09d04-698a-447c-9b2f-260082e55d3c"
      },
      "outputs": [
        {
          "output_type": "stream",
          "name": "stdout",
          "text": [
            "Today = 05/10/2022\n",
            "Cureent time 2022-10-05\n"
          ]
        }
      ],
      "source": [
        "# Get the current date and time\n",
        "\n",
        "from datetime import datetime\n",
        "\n",
        "# datetime object containing current date and time\n",
        "\n",
        "Today = today.strftime(\"%d/%m/%Y\")\n",
        "print(\"Today =\", Today)\n",
        "\n",
        "# H:M:S\n",
        "Now = now.strftime(\"%H:%M:%S\")\n",
        "print(\"Cureent time\", now)\n",
        "\n"
      ]
    }
  ]
}
