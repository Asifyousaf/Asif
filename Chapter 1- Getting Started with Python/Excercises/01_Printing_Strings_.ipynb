{
  "nbformat": 4,
  "nbformat_minor": 0,
  "metadata": {
    "colab": {
      "provenance": [],
      "authorship_tag": "ABX9TyPfhseaCeBB4xQOAOymBFDz",
      "include_colab_link": true
    },
    "kernelspec": {
      "name": "python3",
      "display_name": "Python 3"
    },
    "language_info": {
      "name": "python"
    }
  },
  "cells": [
    {
      "cell_type": "markdown",
      "metadata": {
        "id": "view-in-github",
        "colab_type": "text"
      },
      "source": [
        "<a href=\"https://colab.research.google.com/github/Asifyousaf/Asif/blob/main/Chapter%201-%20Getting%20Started%20with%20Python/Excercises/Printing_Strings_.ipynb\" target=\"_parent\"><img src=\"https://colab.research.google.com/assets/colab-badge.svg\" alt=\"Open In Colab\"/></a>"
      ]
    },
    {
      "cell_type": "code",
      "execution_count": null,
      "metadata": {
        "colab": {
          "base_uri": "https://localhost:8080/"
        },
        "id": "RHSXzfGHxe8z",
        "outputId": "051df2ec-7bed-457b-81f9-ab379c1b9577"
      },
      "outputs": [
        {
          "output_type": "stream",
          "name": "stdout",
          "text": [
            "Twinkle, twinkle, little star,\n",
            "How I wonder what you are! Up above the world so high,\n",
            "Like a diamond in the sky,\n"
          ]
        }
      ],
      "source": [
        "#Writing a Python program to print a poem with punctuation\n",
        "print('Twinkle, twinkle, little star,')\n",
        "print('How I wonder what you are! Up above the world so high,')\n",
        "print('Like a diamond in the sky,')"
      ]
    },
    {
      "cell_type": "code",
      "source": [],
      "metadata": {
        "id": "tHWYYlIZzX2C"
      },
      "execution_count": null,
      "outputs": []
    }
  ]
}
