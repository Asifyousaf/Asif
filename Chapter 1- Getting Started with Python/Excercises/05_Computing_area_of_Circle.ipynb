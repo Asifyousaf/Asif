{
  "nbformat": 4,
  "nbformat_minor": 0,
  "metadata": {
    "colab": {
      "provenance": [],
      "collapsed_sections": [],
      "authorship_tag": "ABX9TyPnq/ehdkfc8zx95KpDp3hy",
      "include_colab_link": true
    },
    "kernelspec": {
      "name": "python3",
      "display_name": "Python 3"
    },
    "language_info": {
      "name": "python"
    }
  },
  "cells": [
    {
      "cell_type": "markdown",
      "metadata": {
        "id": "view-in-github",
        "colab_type": "text"
      },
      "source": [
        "<a href=\"https://colab.research.google.com/github/Asifyousaf/Asif/blob/main/Chapter%201-%20Getting%20Started%20with%20Python/Excercises/05_Computing_area_of_Circle.ipynb\" target=\"_parent\"><img src=\"https://colab.research.google.com/assets/colab-badge.svg\" alt=\"Open In Colab\"/></a>"
      ]
    },
    {
      "cell_type": "code",
      "source": [
        "from math import pi \n",
        "#using maths module to get the value of pi\n",
        "\n",
        "r = float(input (\"Input the radius of the circle : \"))\n",
        "#command to get the data from user \n",
        "\n",
        "print (\"The area of the circle with radius \" + str(r) + \" is: \" + str(pi*r**2))"
      ],
      "metadata": {
        "id": "vIqPkOIOs4tT"
      },
      "execution_count": null,
      "outputs": []
    }
  ]
}