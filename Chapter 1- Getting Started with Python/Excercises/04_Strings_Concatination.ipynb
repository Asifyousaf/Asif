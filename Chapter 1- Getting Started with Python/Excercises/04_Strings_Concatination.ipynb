{
  "nbformat": 4,
  "nbformat_minor": 0,
  "metadata": {
    "colab": {
      "provenance": [],
      "authorship_tag": "ABX9TyMUUaOuVMMGW7+CHiNIUN7m",
      "include_colab_link": true
    },
    "kernelspec": {
      "name": "python3",
      "display_name": "Python 3"
    },
    "language_info": {
      "name": "python"
    }
  },
  "cells": [
    {
      "cell_type": "markdown",
      "metadata": {
        "id": "view-in-github",
        "colab_type": "text"
      },
      "source": [
        "<a href=\"https://colab.research.google.com/github/Asifyousaf/Asif/blob/main/Chapter%201-%20Getting%20Started%20with%20Python/Excercises/04_Strings_Concatination.ipynb\" target=\"_parent\"><img src=\"https://colab.research.google.com/assets/colab-badge.svg\" alt=\"Open In Colab\"/></a>"
      ]
    },
    {
      "cell_type": "code",
      "execution_count": 4,
      "metadata": {
        "colab": {
          "base_uri": "https://localhost:8080/"
        },
        "id": "pnWz-BxLeE4N",
        "outputId": "12d88d16-695f-4d6a-86c8-13dfbc2bd4ba"
      },
      "outputs": [
        {
          "output_type": "stream",
          "name": "stdout",
          "text": [
            "im learning python \n"
          ]
        }
      ],
      "source": [
        "# Three strings in different variables \n",
        "Str_1 = \"im \"\n",
        "Str_2 = \"learning \"\n",
        "Str_3 = \"python \"\n",
        "\n",
        "# Printing all three varaibles as one strings\n",
        "\n",
        "print(Str_1+Str_2+Str_3)"
      ]
    }
  ]
}