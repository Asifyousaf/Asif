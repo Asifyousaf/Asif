{
  "nbformat": 4,
  "nbformat_minor": 0,
  "metadata": {
    "colab": {
      "provenance": [],
      "authorship_tag": "ABX9TyNvx8sMkg16vKlOO6DyIe5L",
      "include_colab_link": true
    },
    "kernelspec": {
      "name": "python3",
      "display_name": "Python 3"
    },
    "language_info": {
      "name": "python"
    }
  },
  "cells": [
    {
      "cell_type": "markdown",
      "metadata": {
        "id": "view-in-github",
        "colab_type": "text"
      },
      "source": [
        "<a href=\"https://colab.research.google.com/github/Asifyousaf/Asif/blob/main/Chapter%206-%20Loops/Exercises/01_Pizza_toppings.ipynb\" target=\"_parent\"><img src=\"https://colab.research.google.com/assets/colab-badge.svg\" alt=\"Open In Colab\"/></a>"
      ]
    },
    {
      "cell_type": "code",
      "source": [
        "# Using loop function \n",
        "while True:\n",
        "    pizza = input(\"\\nWhat kind pizza topping would you like?\"\"\\nEnter 'quit' when you are finished:\") # Asking user for data\n",
        "    if pizza == \"quit\": # Assigning 'quit' to break the loop\n",
        "        break\n",
        "    print(\"\\nI will add the {} topping to your delicious pizza\".format(pizza))\n"
      ],
      "metadata": {
        "colab": {
          "base_uri": "https://localhost:8080/"
        },
        "id": "9hbiSTjLEb7j",
        "outputId": "0150a828-28b2-4222-e550-a9dac0464769"
      },
      "execution_count": 21,
      "outputs": [
        {
          "name": "stdout",
          "output_type": "stream",
          "text": [
            "\n",
            "What kind pizza topping would you like?\n",
            "Enter 'quit' when you are finished:Extra Cheese\n",
            "\n",
            "I will add the Extra Cheese topping to your delicious pizza\n",
            "\n",
            "What kind pizza topping would you like?\n",
            "Enter 'quit' when you are finished:quit\n"
          ]
        }
      ]
    }
  ]
}