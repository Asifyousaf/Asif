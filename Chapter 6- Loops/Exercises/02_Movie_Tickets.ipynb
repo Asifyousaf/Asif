{
  "nbformat": 4,
  "nbformat_minor": 0,
  "metadata": {
    "colab": {
      "provenance": [],
      "authorship_tag": "ABX9TyNdQBoh6OdVy63Z9nI4FA1G",
      "include_colab_link": true
    },
    "kernelspec": {
      "name": "python3",
      "display_name": "Python 3"
    },
    "language_info": {
      "name": "python"
    }
  },
  "cells": [
    {
      "cell_type": "markdown",
      "metadata": {
        "id": "view-in-github",
        "colab_type": "text"
      },
      "source": [
        "<a href=\"https://colab.research.google.com/github/Asifyousaf/Asif/blob/main/Chapter%206-%20Loops/Exercises/02_Movie_Tickets.ipynb\" target=\"_parent\"><img src=\"https://colab.research.google.com/assets/colab-badge.svg\" alt=\"Open In Colab\"/></a>"
      ]
    },
    {
      "cell_type": "code",
      "source": [
        "# Using loop function \n",
        "while True:\n",
        "    age = input(\"\\nHow old are you? \"\"\\nEnter 'quit' when you are finished.\") # Asking user for data\n",
        "    \n",
        "    if age == \"quit\": # Using 'quit' to break the loop\n",
        "        break\n",
        "    age = int(age)\n",
        "    if age < 3:\n",
        "        print(\"\\nYour ticket is free\")\n",
        "    elif age < 12:\n",
        "        print(\"\\nYour ticket is $10\") \n",
        "    else:\n",
        "        print(\"\\nYour ticket is $15\")"
      ],
      "metadata": {
        "colab": {
          "base_uri": "https://localhost:8080/"
        },
        "id": "9LSyheo3Hho5",
        "outputId": "0da30917-7b3f-4510-cea2-e6581b447008"
      },
      "execution_count": 6,
      "outputs": [
        {
          "name": "stdout",
          "output_type": "stream",
          "text": [
            "\n",
            "How old are you? \n",
            "Enter 'quit' when you are finished.8\n",
            "\n",
            "Your ticket is $10\n",
            "\n",
            "How old are you? \n",
            "Enter 'quit' when you are finished.quit\n"
          ]
        }
      ]
    }
  ]
}