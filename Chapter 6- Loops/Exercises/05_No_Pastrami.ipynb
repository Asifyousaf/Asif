{
  "nbformat": 4,
  "nbformat_minor": 0,
  "metadata": {
    "colab": {
      "provenance": [],
      "authorship_tag": "ABX9TyMrL+bZ21ksikLLklAn+uyD",
      "include_colab_link": true
    },
    "kernelspec": {
      "name": "python3",
      "display_name": "Python 3"
    },
    "language_info": {
      "name": "python"
    }
  },
  "cells": [
    {
      "cell_type": "markdown",
      "metadata": {
        "id": "view-in-github",
        "colab_type": "text"
      },
      "source": [
        "<a href=\"https://colab.research.google.com/github/Asifyousaf/Asif/blob/main/Chapter%206-%20Loops/Exercises/05_No_Pastrami.ipynb\" target=\"_parent\"><img src=\"https://colab.research.google.com/assets/colab-badge.svg\" alt=\"Open In Colab\"/></a>"
      ]
    },
    {
      "cell_type": "code",
      "execution_count": 2,
      "metadata": {
        "colab": {
          "base_uri": "https://localhost:8080/"
        },
        "id": "O1a-4v4Da89d",
        "outputId": "95154411-d750-42f1-9e3e-66b6e4da5c01"
      },
      "outputs": [
        {
          "output_type": "stream",
          "name": "stdout",
          "text": [
            "The Deli has run out of pastrami\n",
            "I'm working on your roast beef sandwich.\n",
            "I'm working on your veggie sandwich.\n",
            "I'm working on your beef sandwich.\n",
            "I'm working on your chicken sandwich.\n",
            "\n",
            "\n",
            "I made a roast beef sandwich.\n",
            "I made a veggie sandwich.\n",
            "I made a beef sandwich.\n",
            "I made a chicken sandwich.\n"
          ]
        }
      ],
      "source": [
        "# Assigning names to variable\n",
        "sandwich_orders = ['chicken', 'pastrami','beef', 'pastrami','veggie', 'pastrami','roast beef']\n",
        "finished_sandwiches =[]\n",
        "\n",
        "# Using loop t remove pastrami\n",
        "print(\"The Deli has run out of pastrami\")\n",
        "while 'pastrami' in sandwich_orders:\n",
        "    sandwich_orders.remove('pastrami')\n",
        "\n",
        "# Printing msg for unfinished sandwiches\n",
        "while sandwich_orders:\n",
        "    current_sandwich = sandwich_orders.pop()\n",
        "    print(f\"I'm working on your {current_sandwich} sandwich.\")\n",
        "    finished_sandwiches.append(current_sandwich)\n",
        "\n",
        "# Printing msg for finished sandwiches\n",
        "print(\"\\n\")\n",
        "for sandwich in finished_sandwiches:\n",
        "    print(f\"I made a {sandwich} sandwich.\")"
      ]
    }
  ]
}