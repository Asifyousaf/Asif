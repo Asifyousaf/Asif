{
  "nbformat": 4,
  "nbformat_minor": 0,
  "metadata": {
    "colab": {
      "provenance": [],
      "authorship_tag": "ABX9TyN45CWtzswQ1CirdT2Myyms",
      "include_colab_link": true
    },
    "kernelspec": {
      "name": "python3",
      "display_name": "Python 3"
    },
    "language_info": {
      "name": "python"
    }
  },
  "cells": [
    {
      "cell_type": "markdown",
      "metadata": {
        "id": "view-in-github",
        "colab_type": "text"
      },
      "source": [
        "<a href=\"https://colab.research.google.com/github/Asifyousaf/Asif/blob/main/Chapter%207-%20Functions/Exercises/04_Large_Shirts.ipynb\" target=\"_parent\"><img src=\"https://colab.research.google.com/assets/colab-badge.svg\" alt=\"Open In Colab\"/></a>"
      ]
    },
    {
      "cell_type": "code",
      "source": [
        "# using function to print a text \n",
        "def make_shirt(size = 'medium', text = '\"I love python!\"'): # size and text\n",
        "    print(\"\\nYou've ordered a \" + size + \" shirt that says \" + text) # Message displayed\n",
        "\n",
        "make_shirt('large') # if the shirt is large\n",
        "make_shirt() # if the shirt is anyother size \n",
        "make_shirt('small','\"I am a big brother\"') # if shirt is small\n"
      ],
      "metadata": {
        "colab": {
          "base_uri": "https://localhost:8080/"
        },
        "id": "aRyOjzgwopux",
        "outputId": "a977aca4-649f-4acf-a176-10c5231df4a2"
      },
      "execution_count": 3,
      "outputs": [
        {
          "output_type": "stream",
          "name": "stdout",
          "text": [
            "\n",
            "You've ordered a large shirt that says \"I love python!\"\n",
            "\n",
            "You've ordered a medium shirt that says \"I love python!\"\n",
            "\n",
            "You've ordered a small shirt that says \"I am a big brother\"\n"
          ]
        }
      ]
    }
  ]
}