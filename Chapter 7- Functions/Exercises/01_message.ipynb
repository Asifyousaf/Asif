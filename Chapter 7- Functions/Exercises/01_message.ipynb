{
  "nbformat": 4,
  "nbformat_minor": 0,
  "metadata": {
    "colab": {
      "provenance": [],
      "authorship_tag": "ABX9TyNTintc6UDeDSTj6YLng8Vc",
      "include_colab_link": true
    },
    "kernelspec": {
      "name": "python3",
      "display_name": "Python 3"
    },
    "language_info": {
      "name": "python"
    }
  },
  "cells": [
    {
      "cell_type": "markdown",
      "metadata": {
        "id": "view-in-github",
        "colab_type": "text"
      },
      "source": [
        "<a href=\"https://colab.research.google.com/github/Asifyousaf/Asif/blob/main/Chapter%207-%20Functions/Exercises/01_message.ipynb\" target=\"_parent\"><img src=\"https://colab.research.google.com/assets/colab-badge.svg\" alt=\"Open In Colab\"/></a>"
      ]
    },
    {
      "cell_type": "code",
      "execution_count": 1,
      "metadata": {
        "colab": {
          "base_uri": "https://localhost:8080/"
        },
        "id": "64SSa1RMcwf8",
        "outputId": "03b51801-3144-4ac5-cfda-50f8d72d8587"
      },
      "outputs": [
        {
          "output_type": "stream",
          "name": "stdout",
          "text": [
            "I'm learning to store code in functions.\n"
          ]
        }
      ],
      "source": [
        "# Using the function to print msg\n",
        "def display_message():\n",
        "    msg = \"I'm learning to store code in functions.\"\n",
        "    print(msg)\n",
        "\n",
        "display_message()"
      ]
    }
  ]
}