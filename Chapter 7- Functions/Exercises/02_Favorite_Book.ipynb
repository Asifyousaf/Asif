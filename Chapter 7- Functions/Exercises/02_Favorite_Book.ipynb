{
  "nbformat": 4,
  "nbformat_minor": 0,
  "metadata": {
    "colab": {
      "provenance": [],
      "authorship_tag": "ABX9TyMccxF5AYUtFXxrS1xfUQJa",
      "include_colab_link": true
    },
    "kernelspec": {
      "name": "python3",
      "display_name": "Python 3"
    },
    "language_info": {
      "name": "python"
    }
  },
  "cells": [
    {
      "cell_type": "markdown",
      "metadata": {
        "id": "view-in-github",
        "colab_type": "text"
      },
      "source": [
        "<a href=\"https://colab.research.google.com/github/Asifyousaf/Asif/blob/main/Chapter%207-%20Functions/Exercises/02_Favorite_Book.ipynb\" target=\"_parent\"><img src=\"https://colab.research.google.com/assets/colab-badge.svg\" alt=\"Open In Colab\"/></a>"
      ]
    },
    {
      "cell_type": "code",
      "source": [
        "def favorite_book(title):\n",
        "    print(\"My favorite book to read is {}\".format(title))\n",
        "    \n",
        "favorite_book(\"'A Game of Thrones'\")"
      ],
      "metadata": {
        "colab": {
          "base_uri": "https://localhost:8080/"
        },
        "id": "4J_WbECYfDIi",
        "outputId": "6c826969-84d3-4eaf-cf9e-13ad85f65fa4"
      },
      "execution_count": 3,
      "outputs": [
        {
          "output_type": "stream",
          "name": "stdout",
          "text": [
            "My favorite book to read is 'A Game of Thrones'\n"
          ]
        }
      ]
    }
  ]
}