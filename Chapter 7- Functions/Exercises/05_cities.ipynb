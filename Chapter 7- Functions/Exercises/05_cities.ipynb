{
  "nbformat": 4,
  "nbformat_minor": 0,
  "metadata": {
    "colab": {
      "provenance": [],
      "authorship_tag": "ABX9TyPG3Orr5Odm7PYnGZvgAQip",
      "include_colab_link": true
    },
    "kernelspec": {
      "name": "python3",
      "display_name": "Python 3"
    },
    "language_info": {
      "name": "python"
    }
  },
  "cells": [
    {
      "cell_type": "markdown",
      "metadata": {
        "id": "view-in-github",
        "colab_type": "text"
      },
      "source": [
        "<a href=\"https://colab.research.google.com/github/Asifyousaf/Asif/blob/main/Chapter%207-%20Functions/Exercises/05_cities.ipynb\" target=\"_parent\"><img src=\"https://colab.research.google.com/assets/colab-badge.svg\" alt=\"Open In Colab\"/></a>"
      ]
    },
    {
      "cell_type": "code",
      "execution_count": 1,
      "metadata": {
        "colab": {
          "base_uri": "https://localhost:8080/"
        },
        "id": "rmeVo3B9qi0m",
        "outputId": "ffc87b5d-fefb-483a-8041-bedbad593abc"
      },
      "outputs": [
        {
          "output_type": "stream",
          "name": "stdout",
          "text": [
            "Santiago is in Chile.\n",
            "Reykjavik is in Iceland.\n",
            "Punta Arenas is in Chile.\n"
          ]
        }
      ],
      "source": [
        "# Using def function\n",
        "def describe_city(city, country='chile'):\n",
        "\n",
        "    msg = f\"{city.title()} is in {country.title()}.\" # the message to be printed\n",
        "    print(msg)\n",
        "\n",
        "describe_city('santiago') # with default country \n",
        "describe_city('reykjavik', 'iceland') # without default country \n",
        "describe_city('punta arenas') # with default country "
      ]
    }
  ]
}