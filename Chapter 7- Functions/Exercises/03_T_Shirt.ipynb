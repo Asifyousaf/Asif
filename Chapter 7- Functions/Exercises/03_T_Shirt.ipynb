{
  "nbformat": 4,
  "nbformat_minor": 0,
  "metadata": {
    "colab": {
      "provenance": [],
      "authorship_tag": "ABX9TyOssYUl3uxNeY0rvWT20yXN",
      "include_colab_link": true
    },
    "kernelspec": {
      "name": "python3",
      "display_name": "Python 3"
    },
    "language_info": {
      "name": "python"
    }
  },
  "cells": [
    {
      "cell_type": "markdown",
      "metadata": {
        "id": "view-in-github",
        "colab_type": "text"
      },
      "source": [
        "<a href=\"https://colab.research.google.com/github/Asifyousaf/Codelab-1/blob/main/Chapter%207-%20Functions/Exercises/03_T_Shirt.ipynb\" target=\"_parent\"><img src=\"https://colab.research.google.com/assets/colab-badge.svg\" alt=\"Open In Colab\"/></a>"
      ]
    },
    {
      "cell_type": "code",
      "execution_count": null,
      "metadata": {
        "colab": {
          "base_uri": "https://localhost:8080/"
        },
        "id": "VVsP14Jal77h",
        "outputId": "1a9e8422-de32-4f9a-c70d-92fbd165d188"
      },
      "outputs": [
        {
          "output_type": "stream",
          "name": "stdout",
          "text": [
            "\n",
            "I'm going to make a large t-shirt.\n",
            "It will say, \"I love Python!\"\n",
            "\n",
            "I'm going to make a medium t-shirt.\n",
            "It will say, \"Impossible.\"\n"
          ]
        }
      ],
      "source": [
        "# Printing a function to display message\n",
        "def make_shirt(size, message):\n",
        "\n",
        "    print(f\"\\nI'm going to make a {size} t-shirt.\") #the size of shirt\n",
        "    print(f'It will say, \"{message}\"')  #The message displayed\n",
        "\n",
        "make_shirt('large', 'I love Avengers!')\n",
        "make_shirt(message=\"Impossible.\", size='medium')"
      ]
    }
  ]
}