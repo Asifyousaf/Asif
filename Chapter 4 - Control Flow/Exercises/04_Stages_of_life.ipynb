{
  "nbformat": 4,
  "nbformat_minor": 0,
  "metadata": {
    "colab": {
      "provenance": [],
      "authorship_tag": "ABX9TyPCltYBtS5Cv78b1CYlv5y/",
      "include_colab_link": true
    },
    "kernelspec": {
      "name": "python3",
      "display_name": "Python 3"
    },
    "language_info": {
      "name": "python"
    }
  },
  "cells": [
    {
      "cell_type": "markdown",
      "metadata": {
        "id": "view-in-github",
        "colab_type": "text"
      },
      "source": [
        "<a href=\"https://colab.research.google.com/github/Asifyousaf/Asif/blob/main/Chapter%204%20-%20Control%20Flow/Exercises/04_Stages_of_life.ipynb\" target=\"_parent\"><img src=\"https://colab.research.google.com/assets/colab-badge.svg\" alt=\"Open In Colab\"/></a>"
      ]
    },
    {
      "cell_type": "code",
      "execution_count": 2,
      "metadata": {
        "colab": {
          "base_uri": "https://localhost:8080/"
        },
        "id": "M8SrRUpVuZ0g",
        "outputId": "24ba0555-d470-4086-faaf-6a1adc5f9303"
      },
      "outputs": [
        {
          "output_type": "stream",
          "name": "stdout",
          "text": [
            "Enter age: \n",
            "99\n",
            "You're an elder!\n"
          ]
        }
      ],
      "source": [
        "# Asking user for a variable age\n",
        "print(\"Enter age: \")\n",
        "age=int(input())\n",
        "\n",
        "# Using if-elif-else chain that determines a person’s stage of life\n",
        "if age < 2:\n",
        "    print(\"You're a baby!\")\n",
        "elif age < 4:\n",
        "    print(\"You're a toddler!\")\n",
        "elif age < 13:\n",
        "    print(\"You're a kid!\")\n",
        "elif age < 20:\n",
        "    print(\"You're a teenager!\")\n",
        "elif age < 65:\n",
        "    print(\"You're an adult!\")\n",
        "else:\n",
        "    print(\"You're an elder!\")"
      ]
    }
  ]
}