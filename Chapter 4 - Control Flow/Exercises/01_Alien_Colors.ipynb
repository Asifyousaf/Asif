{
  "nbformat": 4,
  "nbformat_minor": 0,
  "metadata": {
    "colab": {
      "provenance": [],
      "authorship_tag": "ABX9TyMn7LP6KoTH/++adq6vcEYV",
      "include_colab_link": true
    },
    "kernelspec": {
      "name": "python3",
      "display_name": "Python 3"
    },
    "language_info": {
      "name": "python"
    }
  },
  "cells": [
    {
      "cell_type": "markdown",
      "metadata": {
        "id": "view-in-github",
        "colab_type": "text"
      },
      "source": [
        "<a href=\"https://colab.research.google.com/github/Asifyousaf/Asif/blob/main/Chapter%204%20-%20Control%20Flow/Exercises/01_Alien_Colors.ipynb\" target=\"_parent\"><img src=\"https://colab.research.google.com/assets/colab-badge.svg\" alt=\"Open In Colab\"/></a>"
      ]
    },
    {
      "cell_type": "code",
      "execution_count": 12,
      "metadata": {
        "colab": {
          "base_uri": "https://localhost:8080/"
        },
        "id": "Crp-gMStbyhv",
        "outputId": "5d5a2beb-0582-4cb6-edf2-5ca5415dc232"
      },
      "outputs": [
        {
          "output_type": "stream",
          "name": "stdout",
          "text": [
            "You just earned 5 points!\n"
          ]
        }
      ],
      "source": [
        "# Assigning the colour to variable\n",
        "alien_color = 'Green'\n",
        "\n",
        "# Using if statement for checking\n",
        "if alien_color == 'Green':\n",
        "  print(\"You just earned 5 points!\")"
      ]
    },
    {
      "cell_type": "code",
      "source": [
        "# Assigning the colour to variable \n",
        "alien_color = 'red'\n",
        "\n",
        "# Using if statement for checking\n",
        "if alien_color == 'green':\n",
        "    print(\"You just earned 5 points!\")"
      ],
      "metadata": {
        "id": "_uJCrhNXfE0C"
      },
      "execution_count": 11,
      "outputs": []
    }
  ]
}