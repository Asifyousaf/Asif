{
  "nbformat": 4,
  "nbformat_minor": 0,
  "metadata": {
    "colab": {
      "provenance": [],
      "authorship_tag": "ABX9TyMq7Sjlm+hiWav7kiSc8WGp",
      "include_colab_link": true
    },
    "kernelspec": {
      "name": "python3",
      "display_name": "Python 3"
    },
    "language_info": {
      "name": "python"
    }
  },
  "cells": [
    {
      "cell_type": "markdown",
      "metadata": {
        "id": "view-in-github",
        "colab_type": "text"
      },
      "source": [
        "<a href=\"https://colab.research.google.com/github/Asifyousaf/Asif/blob/main/Chapter%204%20-%20Control%20Flow/Exercises/05_Favorite_Fruit.ipynb\" target=\"_parent\"><img src=\"https://colab.research.google.com/assets/colab-badge.svg\" alt=\"Open In Colab\"/></a>"
      ]
    },
    {
      "cell_type": "code",
      "execution_count": 3,
      "metadata": {
        "colab": {
          "base_uri": "https://localhost:8080/"
        },
        "id": "oz1gTbFhxa7W",
        "outputId": "fb61457f-be8f-493f-e9ce-03da13bc15b9"
      },
      "outputs": [
        {
          "output_type": "stream",
          "name": "stdout",
          "text": [
            "You really like blueberries!\n",
            "You really like peaches!\n"
          ]
        }
      ],
      "source": [
        "# Assigning fruit names to the variable\n",
        "favorite_fruits = ['blueberries', 'Grapes', 'peaches']\n",
        "\n",
        "# checking whether a certain kind of fruit is in my list\n",
        "if 'litchi' in favorite_fruits:\n",
        "  print(\"You really like bananas!\")\n",
        "if 'apples' in favorite_fruits:\n",
        "  print(\"You really like apples!\")\n",
        "if 'blueberries' in favorite_fruits:\n",
        "  print(\"You really like blueberries!\")\n",
        "if 'kiwis' in favorite_fruits:\n",
        "  print(\"You really like kiwis!\")\n",
        "if 'peaches' in favorite_fruits:\n",
        "  print(\"You really like peaches!\")"
      ]
    }
  ]
}