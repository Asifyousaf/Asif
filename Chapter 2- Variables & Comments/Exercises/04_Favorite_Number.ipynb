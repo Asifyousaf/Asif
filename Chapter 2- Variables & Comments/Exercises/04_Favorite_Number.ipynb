{
  "nbformat": 4,
  "nbformat_minor": 0,
  "metadata": {
    "colab": {
      "provenance": [],
      "authorship_tag": "ABX9TyPDu+WhDAV5QVFgmGzMTJRJ",
      "include_colab_link": true
    },
    "kernelspec": {
      "name": "python3",
      "display_name": "Python 3"
    },
    "language_info": {
      "name": "python"
    }
  },
  "cells": [
    {
      "cell_type": "markdown",
      "metadata": {
        "id": "view-in-github",
        "colab_type": "text"
      },
      "source": [
        "<a href=\"https://colab.research.google.com/github/Asifyousaf/Asif/blob/main/Chapter%202-%20Variables%20%26%20Comments/Exercises/04_Favorite_Number.ipynb\" target=\"_parent\"><img src=\"https://colab.research.google.com/assets/colab-badge.svg\" alt=\"Open In Colab\"/></a>"
      ]
    },
    {
      "cell_type": "code",
      "execution_count": 4,
      "metadata": {
        "colab": {
          "base_uri": "https://localhost:8080/"
        },
        "id": "mUkYDTGJgGF8",
        "outputId": "60c344a4-e75c-4bf3-d9bb-3aee98f5e3c1"
      },
      "outputs": [
        {
          "output_type": "stream",
          "name": "stdout",
          "text": [
            "my  favorite word is 10\n"
          ]
        }
      ],
      "source": [
        "#assigning a number to a variable\n",
        "fav_num = (10)\n",
        "print(\"my  favorite word is \" +str(fav_num))"
      ]
    }
  ]
}