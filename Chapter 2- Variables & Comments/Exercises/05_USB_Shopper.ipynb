{
  "nbformat": 4,
  "nbformat_minor": 0,
  "metadata": {
    "colab": {
      "provenance": [],
      "authorship_tag": "ABX9TyOOD3qgQ7legh6ZLUHW4ZTa",
      "include_colab_link": true
    },
    "kernelspec": {
      "name": "python3",
      "display_name": "Python 3"
    },
    "language_info": {
      "name": "python"
    }
  },
  "cells": [
    {
      "cell_type": "markdown",
      "metadata": {
        "id": "view-in-github",
        "colab_type": "text"
      },
      "source": [
        "<a href=\"https://colab.research.google.com/github/Asifyousaf/Asif/blob/main/Chapter%202-%20Variables%20%26%20Comments/Exercises/05_USB_Shopper.ipynb\" target=\"_parent\"><img src=\"https://colab.research.google.com/assets/colab-badge.svg\" alt=\"Open In Colab\"/></a>"
      ]
    },
    {
      "cell_type": "code",
      "execution_count": 7,
      "metadata": {
        "id": "9JdajTx9WI2Q",
        "colab": {
          "base_uri": "https://localhost:8080/"
        },
        "outputId": "03d95f73-ea1c-4325-ac44-bac55b95dcac"
      },
      "outputs": [
        {
          "output_type": "stream",
          "name": "stdout",
          "text": [
            "The amount of USB sticks she can buy with £50 is = 8 USB sticks\n",
            "The amount of cash left is = 2 pounds\n"
          ]
        }
      ],
      "source": [
        "# Assigning the amounts to variables \n",
        "\n",
        "x = 50    # The amount she has \n",
        "y = 6     # The cost of each item\n",
        "\n",
        "# Using arithmetic operators to calculates how many USB sticks she can buy and how many pounds she will have left.\n",
        "print('The amount of USB sticks she can buy with £50 is =',(x//y),'USB sticks')\n",
        "print('The amount of cash left is =', x%y,'pounds')"
      ]
    }
  ]
}