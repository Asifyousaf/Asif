{
  "nbformat": 4,
  "nbformat_minor": 0,
  "metadata": {
    "colab": {
      "provenance": [],
      "authorship_tag": "ABX9TyNjuEE2SLV7oRNld/irJgWN",
      "include_colab_link": true
    },
    "kernelspec": {
      "name": "python3",
      "display_name": "Python 3"
    },
    "language_info": {
      "name": "python"
    }
  },
  "cells": [
    {
      "cell_type": "markdown",
      "metadata": {
        "id": "view-in-github",
        "colab_type": "text"
      },
      "source": [
        "<a href=\"https://colab.research.google.com/github/Asifyousaf/Asif/blob/main/Chapter%202-%20Variables%20%26%20Comments/Exercises/01_Variables.ipynb\" target=\"_parent\"><img src=\"https://colab.research.google.com/assets/colab-badge.svg\" alt=\"Open In Colab\"/></a>"
      ]
    },
    {
      "cell_type": "code",
      "execution_count": 4,
      "metadata": {
        "colab": {
          "base_uri": "https://localhost:8080/"
        },
        "id": "fqCkqNQ6iFkW",
        "outputId": "bec868ea-7f6d-43dc-a585-50cfb0f81427"
      },
      "outputs": [
        {
          "output_type": "stream",
          "name": "stdout",
          "text": [
            "My first month using python.\n",
            "It's very user friendly\n"
          ]
        }
      ],
      "source": [
        "#Assigning a message to a variable, and printing that message\n",
        "msg = \"My first month using python.\"\n",
        "print(msg)\n",
        "\n",
        "#Assigning a massage to the same variable, and printing thath massage\n",
        "msg = \"It's very user friendly\"\n",
        "print(msg)"
      ]
    }
  ]
}