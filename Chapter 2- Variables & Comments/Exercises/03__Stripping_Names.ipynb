{
  "nbformat": 4,
  "nbformat_minor": 0,
  "metadata": {
    "colab": {
      "provenance": [],
      "authorship_tag": "ABX9TyNOxCvIxaPfpByXhvGNLmXP",
      "include_colab_link": true
    },
    "kernelspec": {
      "name": "python3",
      "display_name": "Python 3"
    },
    "language_info": {
      "name": "python"
    }
  },
  "cells": [
    {
      "cell_type": "markdown",
      "metadata": {
        "id": "view-in-github",
        "colab_type": "text"
      },
      "source": [
        "<a href=\"https://colab.research.google.com/github/Asifyousaf/Asif/blob/main/Chapter%202-%20Variables%20%26%20Comments/Exercises/03__Stripping_Names.ipynb\" target=\"_parent\"><img src=\"https://colab.research.google.com/assets/colab-badge.svg\" alt=\"Open In Colab\"/></a>"
      ]
    },
    {
      "cell_type": "code",
      "execution_count": 36,
      "metadata": {
        "colab": {
          "base_uri": "https://localhost:8080/"
        },
        "id": "RJf7M4-DaP_E",
        "outputId": "12fc9593-0786-4100-fddd-5cf8eb12d73a"
      },
      "outputs": [
        {
          "output_type": "stream",
          "name": "stdout",
          "text": [
            "When we use \\ n:\n",
            " Asif yousaf\n",
            "When we use \\ t:\t Asif yousaf\n",
            "\n",
            " using no fucntion:\n",
            "      Asif yousaf       \n",
            "\n",
            " using lstrip():\n",
            "Asif yousaf       \n",
            "\n",
            " using rstrip():\n",
            "      Asif yousaf\n",
            "\n",
            " using strip():\n",
            "Asif yousaf\n"
          ]
        }
      ],
      "source": [
        "#Assigning a name to a variable\n",
        "Name = \"      Asif yousaf       \"\n",
        "\n",
        "#using combinations “\\t” and “\\n”\n",
        "Name2 = (\"\\n Asif yousaf\")\n",
        "Name3 = (\"\\t Asif yousaf\")\n",
        "print(\"When we use \\ n:\"+Name2 +\"\\n\"+\"When we use \\ t:\"+Name3)\n",
        "\n",
        "#using three stripping functions, lstrip(), rstrip(), and strip()\n",
        "\n",
        "print(\"\\n using no fucntion:\")\n",
        "print(Name)\n",
        "\n",
        "print(\"\\n using lstrip():\")\n",
        "print(Name.lstrip())\n",
        "\n",
        "print(\"\\n using rstrip():\")\n",
        "print(Name.rstrip())\n",
        "\n",
        "print(\"\\n using strip():\")\n",
        "print(Name.strip())"
      ]
    }
  ]
}