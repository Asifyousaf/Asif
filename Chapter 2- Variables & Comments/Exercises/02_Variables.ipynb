{
  "nbformat": 4,
  "nbformat_minor": 0,
  "metadata": {
    "colab": {
      "provenance": [],
      "authorship_tag": "ABX9TyOUcQqnVl77cZeS7WIOXBvg",
      "include_colab_link": true
    },
    "kernelspec": {
      "name": "python3",
      "display_name": "Python 3"
    },
    "language_info": {
      "name": "python"
    }
  },
  "cells": [
    {
      "cell_type": "markdown",
      "metadata": {
        "id": "view-in-github",
        "colab_type": "text"
      },
      "source": [
        "<a href=\"https://colab.research.google.com/github/Asifyousaf/Asif/blob/main/Chapter%202-%20Variables%20%26%20Comments/Exercises/02_Variables.ipynb\" target=\"_parent\"><img src=\"https://colab.research.google.com/assets/colab-badge.svg\" alt=\"Open In Colab\"/></a>"
      ]
    },
    {
      "cell_type": "code",
      "execution_count": 26,
      "metadata": {
        "colab": {
          "base_uri": "https://localhost:8080/"
        },
        "id": "dmZj-thJU_fn",
        "outputId": "688bb0ff-13fd-481d-9c38-09d1d388397b"
      },
      "outputs": [
        {
          "output_type": "stream",
          "name": "stdout",
          "text": [
            "Theodore Roosevelt once said, \"Believe you can and you're half way there\"\n"
          ]
        }
      ],
      "source": [
        "msg = (\"you're\")\n",
        "print('Theodore Roosevelt once said, \"Believe you can and you\\'re half way there\"')\n"
      ]
    }
  ]
}